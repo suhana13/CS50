{
 "cells": [
  {
   "cell_type": "markdown",
   "metadata": {},
   "source": [
    "# Basic python syntax\n",
    "### Goal - 1 : understanding the basics of python \n"
   ]
  },
  {
   "cell_type": "markdown",
   "metadata": {},
   "source": [
    "#### 1. Printing a statement \n",
    "\n",
    "* Here, the term \"printing\" means displaying the desired string, number or function to the output window."
   ]
  },
  {
   "cell_type": "code",
   "execution_count": 7,
   "metadata": {},
   "outputs": [
    {
     "name": "stdout",
     "output_type": "stream",
     "text": [
      "Welcome to the World of Genomics\n"
     ]
    }
   ],
   "source": [
    "# Printing a string\n",
    "print(\"Welcome to the World of Genomics\")"
   ]
  },
  {
   "cell_type": "markdown",
   "metadata": {},
   "source": [
    "#### Now its your turn!\n",
    "#### print the following string:"
   ]
  },
  {
   "cell_type": "code",
   "execution_count": 8,
   "metadata": {},
   "outputs": [],
   "source": [
    "# \"I am new to python!\"\n"
   ]
  },
  {
   "cell_type": "markdown",
   "metadata": {},
   "source": [
    "#### 2. Adding Comments\n",
    "\n",
    "* Comments refer to anything that shall be a part of your input but won't be displayed on your output window. They are useful in helping you recall why you wrote a specific piece of code.\n",
    "* Method - Just push a hashtag/pound sign(#) in front of the line you wish to type as a comment."
   ]
  },
  {
   "cell_type": "markdown",
   "metadata": {},
   "source": [
    "#### Now its your turn!\n",
    "#### Add the following comment to the input window of your previous printed string:\n",
    "\n"
   ]
  },
  {
   "cell_type": "code",
   "execution_count": 9,
   "metadata": {},
   "outputs": [],
   "source": [
    "## \"This is my first comment on python!\""
   ]
  },
  {
   "cell_type": "markdown",
   "metadata": {},
   "source": [
    "#### Variables\n",
    "* In python, a variable can be any number or string and can be referred to as a \"data container\".\n",
    "* Variables, as the name suggests, can have different values.\n",
    "* As mentioned before, variables can be either numbers or strings.\n",
    "* String variables must be referenced in single or double quotes. \n",
    "* integer variables can be referenced as it is.\n"
   ]
  },
  {
   "cell_type": "code",
   "execution_count": 10,
   "metadata": {},
   "outputs": [
    {
     "name": "stdout",
     "output_type": "stream",
     "text": [
      "DNA is a double-stranded molecule\n",
      "4\n"
     ]
    }
   ],
   "source": [
    "# Examples:\n",
    "# 1. String variable\n",
    "x = \"DNA is a double-stranded molecule\"\n",
    "y = 4\n",
    "print(x)\n",
    "print(y)\n",
    "\n"
   ]
  },
  {
   "cell_type": "markdown",
   "metadata": {},
   "source": [
    "#### Challenge!\n",
    "* Using the variables x  by adding another variable, lets construct the following statement:\n",
    "DNA is a double-stranded molecule and it is constructed using nucleotides.\n",
    "\n"
   ]
  },
  {
   "cell_type": "code",
   "execution_count": 11,
   "metadata": {},
   "outputs": [
    {
     "name": "stdout",
     "output_type": "stream",
     "text": [
      "DNA is a double-stranded moleculeand it is constructed using nucleotides.\n"
     ]
    }
   ],
   "source": [
    "x = \"DNA is a double-stranded molecule\"\n",
    "z = \"and it is constructed using nucleotides.\"\n",
    "print(x + z)"
   ]
  },
  {
   "cell_type": "markdown",
   "metadata": {},
   "source": [
    "#### Now its your turn!\n",
    "#### Print the following string using two variables:\n",
    "DNA is made up of nucleotides consisting of nitrogenous bases, a phosphate group and a sugar group.\n",
    "\n"
   ]
  },
  {
   "cell_type": "markdown",
   "metadata": {},
   "source": [
    "#### Printing two different types of variables\n",
    "* Now, what if we have one string variable and one number variable and we wish to concatenate or add up the two of them and print the output.\n",
    "* Lets illustrate this with an example!"
   ]
  },
  {
   "cell_type": "code",
   "execution_count": 12,
   "metadata": {},
   "outputs": [
    {
     "ename": "TypeError",
     "evalue": "can only concatenate str (not \"int\") to str",
     "output_type": "error",
     "traceback": [
      "\u001b[0;31m---------------------------------------------------------------------------\u001b[0m",
      "\u001b[0;31mTypeError\u001b[0m                                 Traceback (most recent call last)",
      "\u001b[0;32m<ipython-input-12-a2d76f46e602>\u001b[0m in \u001b[0;36m<module>\u001b[0;34m\u001b[0m\n\u001b[1;32m      1\u001b[0m \u001b[0mx\u001b[0m \u001b[0;34m=\u001b[0m \u001b[0;34m\"The number of nitrogenous bases in DNA are\"\u001b[0m\u001b[0;34m\u001b[0m\u001b[0;34m\u001b[0m\u001b[0m\n\u001b[1;32m      2\u001b[0m \u001b[0my\u001b[0m \u001b[0;34m=\u001b[0m \u001b[0;36m4\u001b[0m\u001b[0;34m\u001b[0m\u001b[0;34m\u001b[0m\u001b[0m\n\u001b[0;32m----> 3\u001b[0;31m \u001b[0mprint\u001b[0m\u001b[0;34m(\u001b[0m\u001b[0mx\u001b[0m \u001b[0;34m+\u001b[0m \u001b[0my\u001b[0m\u001b[0;34m)\u001b[0m\u001b[0;34m\u001b[0m\u001b[0;34m\u001b[0m\u001b[0m\n\u001b[0m",
      "\u001b[0;31mTypeError\u001b[0m: can only concatenate str (not \"int\") to str"
     ]
    }
   ],
   "source": [
    "x = \"The number of nitrogenous bases in DNA are\"\n",
    "y = 4\n",
    "print(x + y)"
   ]
  },
  {
   "cell_type": "markdown",
   "metadata": {},
   "source": [
    "#### Ooops! We encounter an error\n",
    "* This is because both the variables belong to different categories. While x is a string, y is a number. These two can't be concatenated directly. \n",
    "* To solve this problem, we can put our number in single or double quotes and consequently turn it into a string.\n",
    "* Thereafter, we can concatenate the two strings and print the required output.\n",
    "* Lets try it out!"
   ]
  },
  {
   "cell_type": "code",
   "execution_count": 13,
   "metadata": {},
   "outputs": [
    {
     "name": "stdout",
     "output_type": "stream",
     "text": [
      "The number of nitrogenous bases in DNA are4\n"
     ]
    }
   ],
   "source": [
    "x = \"The number of nitrogenous bases in DNA are\"\n",
    "y = '4'\n",
    "print(x + y)"
   ]
  },
  {
   "cell_type": "markdown",
   "metadata": {},
   "source": [
    "* Well, that doesnt seem to be a satisfactory output. We, indeed wish to add a space between 'are' and '4'.\n",
    "* To do that add a blank quote between the two strings\n",
    "* Lets try it out!"
   ]
  },
  {
   "cell_type": "code",
   "execution_count": 14,
   "metadata": {},
   "outputs": [
    {
     "name": "stdout",
     "output_type": "stream",
     "text": [
      "The number of nitrogenous bases in DNA are 4\n"
     ]
    }
   ],
   "source": [
    "x = \"The number of nitrogenous bases in DNA are\"\n",
    "y = '4'\n",
    "print(x + \" \" + y)"
   ]
  },
  {
   "cell_type": "markdown",
   "metadata": {},
   "source": [
    "#### Now its your turn! Print the following statement using two variables, one being a string and other being a number\n",
    "Dna has a double-helix structure and this structure was discovered by Watson and Crick in 1953.\n"
   ]
  },
  {
   "cell_type": "markdown",
   "metadata": {},
   "source": [
    "### String methods\n",
    "* We shall introduce 4 string methods, namely:\n",
    "1. lower()\n",
    "2. upper()\n",
    "3. str()\n",
    "4. len()\n",
    "\n",
    "* lower() turns a string into lowercase letters, completely.\n",
    "* upper() turns a string into uppercase letters, completely.\n",
    "* str() turns non-strings into strings\n",
    "* len() returns the length of the string.\n",
    "\n",
    "* Lets illustrate each of these using an example!"
   ]
  },
  {
   "cell_type": "code",
   "execution_count": 15,
   "metadata": {},
   "outputs": [
    {
     "name": "stdout",
     "output_type": "stream",
     "text": [
      "gene\n",
      "GENE\n",
      "4\n",
      "GeNe4\n"
     ]
    }
   ],
   "source": [
    "x = 'GeNe'\n",
    "print(x.lower())\n",
    "print(x.upper())\n",
    "print(len(x))\n",
    "y = 4\n",
    "print( x + str(y))"
   ]
  },
  {
   "cell_type": "code",
   "execution_count": null,
   "metadata": {},
   "outputs": [],
   "source": []
  }
 ],
 "metadata": {
  "kernelspec": {
   "display_name": "Python 3",
   "language": "python",
   "name": "python3"
  },
  "language_info": {
   "codemirror_mode": {
    "name": "ipython",
    "version": 3
   },
   "file_extension": ".py",
   "mimetype": "text/x-python",
   "name": "python",
   "nbconvert_exporter": "python",
   "pygments_lexer": "ipython3",
   "version": "3.7.4"
  }
 },
 "nbformat": 4,
 "nbformat_minor": 2
}
